{
  "nbformat": 4,
  "nbformat_minor": 0,
  "metadata": {
    "colab": {
      "provenance": [],
      "authorship_tag": "ABX9TyNpMKiH/Uf9jnRatYPFW3N8",
      "include_colab_link": true
    },
    "kernelspec": {
      "name": "python3",
      "display_name": "Python 3"
    },
    "language_info": {
      "name": "python"
    }
  },
  "cells": [
    {
      "cell_type": "markdown",
      "metadata": {
        "id": "view-in-github",
        "colab_type": "text"
      },
      "source": [
        "<a href=\"https://colab.research.google.com/github/dbonekamp/imageProcessingAndR/blob/main/basic_Python_usage.ipynb\" target=\"_parent\"><img src=\"https://colab.research.google.com/assets/colab-badge.svg\" alt=\"Open In Colab\"/></a>"
      ]
    },
    {
      "cell_type": "code",
      "source": [
        "# prompt: give some basic python list comprehension examples\n",
        "\n",
        "# Create a list of squares\n",
        "numbers = [1, 2, 3, 4, 5]\n",
        "squares = [x**2 for x in numbers]\n",
        "print(squares)  # Output: [1, 4, 9, 16, 25]\n",
        "\n",
        "# Filter even numbers\n",
        "numbers = [1, 2, 3, 4, 5, 6]\n",
        "even_numbers = [x for x in numbers if x % 2 == 0]\n",
        "print(even_numbers)  # Output: [2, 4, 6]\n",
        "\n",
        "# Create a list of tuples\n",
        "names = ['Alice', 'Bob', 'Charlie']\n",
        "name_length = [(name, len(name)) for name in names]\n",
        "print(name_length)  # Output: [('Alice', 5), ('Bob', 3), ('Charlie', 7)]\n"
      ],
      "metadata": {
        "colab": {
          "base_uri": "https://localhost:8080/"
        },
        "id": "n2VblQlAamGj",
        "outputId": "66ecc8b4-bf86-49e4-9a28-6c1163d84aac"
      },
      "execution_count": 1,
      "outputs": [
        {
          "output_type": "stream",
          "name": "stdout",
          "text": [
            "[1, 4, 9, 16, 25]\n",
            "[2, 4, 6]\n",
            "[('Alice', 5), ('Bob', 3), ('Charlie', 7)]\n"
          ]
        }
      ]
    },
    {
      "cell_type": "code",
      "execution_count": 2,
      "metadata": {
        "colab": {
          "base_uri": "https://localhost:8080/"
        },
        "id": "fb4iBaeDaGFM",
        "outputId": "8591530c-90c4-48d5-d9b6-394da182a040"
      },
      "outputs": [
        {
          "output_type": "stream",
          "name": "stdout",
          "text": [
            "1\n",
            "6\n",
            "1 2 3 \n",
            "4 5 6 \n",
            "7 8 9 \n",
            "[[6, 8], [10, 12]]\n"
          ]
        }
      ],
      "source": [
        "# prompt: give some basic examples for matrices in python\n",
        "\n",
        "# Create a matrix using nested lists\n",
        "matrix = [[1, 2, 3],\n",
        "          [4, 5, 6],\n",
        "          [7, 8, 9]]\n",
        "\n",
        "# Access elements\n",
        "print(matrix[0][0])  # Output: 1\n",
        "print(matrix[1][2])  # Output: 6\n",
        "\n",
        "# Iterate over the matrix\n",
        "for row in matrix:\n",
        "  for element in row:\n",
        "    print(element, end=\" \")\n",
        "  print()\n",
        "\n",
        "# Matrix addition\n",
        "matrix1 = [[1, 2], [3, 4]]\n",
        "matrix2 = [[5, 6], [7, 8]]\n",
        "result = [[matrix1[i][j] + matrix2[i][j] for j in range(len(matrix1[0]))] for i in range(len(matrix1))]\n",
        "print(result)  # Output: [[6, 8], [10, 12]]\n"
      ]
    },
    {
      "cell_type": "code",
      "source": [
        "# prompt: give basic examples for lambda in python\n",
        "\n",
        "# Square a number\n",
        "square = lambda x: x ** 2\n",
        "print(square(5))  # Output: 25\n",
        "\n",
        "# Add two numbers\n",
        "add = lambda x, y: x + y\n",
        "print(add(3, 4))  # Output: 7\n",
        "\n",
        "# Check if a number is even\n",
        "is_even = lambda x: x % 2 == 0\n",
        "print(is_even(4))  # Output: True\n",
        "print(is_even(5))  # Output: False\n"
      ],
      "metadata": {
        "colab": {
          "base_uri": "https://localhost:8080/"
        },
        "id": "h99vGOokcGsK",
        "outputId": "17bbcc45-b224-4a3c-f75b-6ddd413da0e3"
      },
      "execution_count": 4,
      "outputs": [
        {
          "output_type": "stream",
          "name": "stdout",
          "text": [
            "25\n",
            "7\n",
            "True\n",
            "False\n"
          ]
        }
      ]
    },
    {
      "cell_type": "code",
      "source": [
        "# prompt: give me some basic usage on expression set in bioconductor\n",
        "\n",
        "# This code cannot be executed because it requires Bioconductor and R environment.\n",
        "# Please refer to the comments for understanding the concept.\n",
        "\n",
        "#  In Bioconductor, expression sets are used to store and analyze gene expression data.\n",
        "#  They provide a structured way to organize and manipulate data, including gene annotations,\n",
        "#  sample information, and expression values.\n",
        "\n",
        "#  Here's a basic example of how you might work with expression sets in Bioconductor (using R):\n",
        "\n",
        "# 1. Load necessary libraries\n",
        "# library(Biobase)\n",
        "# library(GEOquery)\n",
        "\n",
        "# 2. Download a dataset from GEO\n",
        "# gset <- getGEO(\"GSE12345\", GSEMatrix = TRUE)\n",
        "\n",
        "# 3. Access expression data\n",
        "# exprs(gset[[1]])  # Access the expression matrix\n",
        "\n",
        "# 4. Access gene annotations\n",
        "# featureData(gset[[1]])  # Access gene annotations\n",
        "\n",
        "# 5. Access sample information\n",
        "# pData(gset[[1]])  # Access sample information\n",
        "\n",
        "# 6. Perform basic analysis\n",
        "#  - Calculate average expression values for genes\n",
        "#  - Identify differentially expressed genes\n",
        "#  - Perform clustering analysis\n",
        "#  - Visualize expression data\n"
      ],
      "metadata": {
        "id": "DNIUAnZSdnbh"
      },
      "execution_count": null,
      "outputs": []
    }
  ]
}