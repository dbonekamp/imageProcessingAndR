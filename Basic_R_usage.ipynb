{
  "nbformat": 4,
  "nbformat_minor": 0,
  "metadata": {
    "colab": {
      "provenance": [],
      "authorship_tag": "ABX9TyOC7o5tHKPlYwU0wmkJb5oY",
      "include_colab_link": true
    },
    "kernelspec": {
      "name": "python3",
      "display_name": "Python 3"
    },
    "language_info": {
      "name": "python"
    }
  },
  "cells": [
    {
      "cell_type": "markdown",
      "metadata": {
        "id": "view-in-github",
        "colab_type": "text"
      },
      "source": [
        "<a href=\"https://colab.research.google.com/github/dbonekamp/imageProcessingAndR/blob/main/Basic_R_usage.ipynb\" target=\"_parent\"><img src=\"https://colab.research.google.com/assets/colab-badge.svg\" alt=\"Open In Colab\"/></a>"
      ]
    },
    {
      "cell_type": "code",
      "source": [
        "%load_ext rpy2.ipython"
      ],
      "metadata": {
        "id": "GYw69Bi-UGK7"
      },
      "execution_count": 4,
      "outputs": []
    },
    {
      "cell_type": "code",
      "execution_count": 5,
      "metadata": {
        "colab": {
          "base_uri": "https://localhost:8080/"
        },
        "id": "m01vlJ5nT0rA",
        "outputId": "4fb14e6d-97ca-4d7f-c53f-1b9557edd464"
      },
      "outputs": [
        {
          "output_type": "stream",
          "name": "stdout",
          "text": [
            "[1] \"Hello from R!\"\n",
            "[1] 1 2 3 4 5\n",
            "     [,1] [,2] [,3] [,4]\n",
            "[1,]    1    4    7   10\n",
            "[2,]    2    5    8   11\n",
            "[3,]    3    6    9   12\n",
            "     name age     city\n",
            "1   Alice  25 New York\n",
            "2     Bob  30   London\n",
            "3 Charlie  28    Paris\n",
            "[1] \"Alice\"   \"Bob\"     \"Charlie\"\n",
            "   Min. 1st Qu.  Median    Mean 3rd Qu.    Max. \n",
            "  25.00   26.50   28.00   27.67   29.00   30.00 \n"
          ]
        }
      ],
      "source": [
        "# prompt: give me a tutorial on basic usage of R\n",
        "\n",
        "# Install R in Colab\n",
        "#!apt-get install -y r-base\n",
        "\n",
        "%%R\n",
        "\n",
        "# Basic R commands\n",
        "print(\"Hello from R!\")\n",
        "\n",
        "# Create a vector\n",
        "my_vector <- c(1, 2, 3, 4, 5)\n",
        "print(my_vector)\n",
        "\n",
        "# Create a matrix\n",
        "my_matrix <- matrix(1:12, nrow = 3, ncol = 4)\n",
        "print(my_matrix)\n",
        "\n",
        "# Create a data frame\n",
        "my_data <- data.frame(\n",
        "  name = c(\"Alice\", \"Bob\", \"Charlie\"),\n",
        "  age = c(25, 30, 28),\n",
        "  city = c(\"New York\", \"London\", \"Paris\")\n",
        ")\n",
        "print(my_data)\n",
        "\n",
        "# Access data frame columns\n",
        "print(my_data$name)\n",
        "\n",
        "# Summary statistics\n",
        "summary(my_data$age)\n",
        "\n",
        "# Plotting\n",
        "#plot(my_data$age, my_data$name)\n"
      ]
    },
    {
      "cell_type": "code",
      "source": [
        "# prompt: Give a list of available r datasets\n",
        "\n",
        "%%R\n",
        "data()\n"
      ],
      "metadata": {
        "colab": {
          "base_uri": "https://localhost:8080/"
        },
        "id": "KbCwx5EDUiBM",
        "outputId": "bef38213-1b92-4287-e935-91222b490b3c"
      },
      "execution_count": 6,
      "outputs": [
        {
          "output_type": "stream",
          "name": "stdout",
          "text": [
            "File: /tmp/RtmpVIGF1d/RpackageIQRd15eabde39\n",
            "Data sets in package ‘datasets’:\n",
            "\n",
            "\n",
            "\n",
            "AirPassengers           Monthly Airline Passenger Numbers 1949-1960\n",
            "\n",
            "BJsales                 Sales Data with Leading Indicator\n",
            "\n",
            "BJsales.lead (BJsales)\n",
            "\n",
            "                        Sales Data with Leading Indicator\n",
            "\n",
            "BOD                     Biochemical Oxygen Demand\n",
            "\n",
            "CO2                     Carbon Dioxide Uptake in Grass Plants\n",
            "\n",
            "ChickWeight             Weight versus age of chicks on different diets\n",
            "\n",
            "DNase                   Elisa assay of DNase\n",
            "\n",
            "EuStockMarkets          Daily Closing Prices of Major European Stock\n",
            "\n",
            "                        Indices, 1991-1998\n",
            "\n",
            "Formaldehyde            Determination of Formaldehyde\n",
            "\n",
            "HairEyeColor            Hair and Eye Color of Statistics Students\n",
            "\n",
            "Harman23.cor            Harman Example 2.3\n",
            "\n",
            "Harman74.cor            Harman Example 7.4\n",
            "\n",
            "Indometh                Pharmacokinetics of Indomethacin\n",
            "\n",
            "InsectSprays            Effectiveness of Insect Sprays\n",
            "\n",
            "JohnsonJohnson          Quarterly Earnings per Johnson & Johnson Share\n",
            "\n",
            "LakeHuron               Level of Lake Huron 1875-1972\n",
            "\n",
            "LifeCycleSavings        Intercountry Life-Cycle Savings Data\n",
            "\n",
            "Loblolly                Growth of Loblolly Pine Trees\n",
            "\n",
            "Nile                    Flow of the River Nile\n",
            "\n",
            "Orange                  Growth of Orange Trees\n",
            "\n",
            "OrchardSprays           Potency of Orchard Sprays\n",
            "\n",
            "PlantGrowth             Results from an Experiment on Plant Growth\n",
            "\n",
            "Puromycin               Reaction Velocity of an Enzymatic Reaction\n",
            "\n",
            "Seatbelts               Road Casualties in Great Britain 1969-84\n",
            "\n",
            "Theoph                  Pharmacokinetics of Theophylline\n",
            "\n",
            "Titanic                 Survival of passengers on the Titanic\n",
            "\n",
            "ToothGrowth             The Effect of Vitamin C on Tooth Growth in\n",
            "\n",
            "                        Guinea Pigs\n",
            "\n",
            "UCBAdmissions           Student Admissions at UC Berkeley\n",
            "\n",
            "UKDriverDeaths          Road Casualties in Great Britain 1969-84\n",
            "\n",
            "UKgas                   UK Quarterly Gas Consumption\n",
            "\n",
            "USAccDeaths             Accidental Deaths in the US 1973-1978\n",
            "\n",
            "USArrests               Violent Crime Rates by US State\n",
            "\n",
            "USJudgeRatings          Lawyers' Ratings of State Judges in the US\n",
            "\n",
            "                        Superior Court\n",
            "\n",
            "USPersonalExpenditure   Personal Expenditure Data\n",
            "\n",
            "UScitiesD               Distances Between European Cities and Between\n",
            "\n",
            "                        US Cities\n",
            "\n",
            "VADeaths                Death Rates in Virginia (1940)\n",
            "\n",
            "WWWusage                Internet Usage per Minute\n",
            "\n",
            "WorldPhones             The World's Telephones\n",
            "\n",
            "ability.cov             Ability and Intelligence Tests\n",
            "\n",
            "airmiles                Passenger Miles on Commercial US Airlines,\n",
            "\n",
            "                        1937-1960\n",
            "\n",
            "airquality              New York Air Quality Measurements\n",
            "\n",
            "anscombe                Anscombe's Quartet of 'Identical' Simple Linear\n",
            "\n",
            "                        Regressions\n",
            "\n",
            "attenu                  The Joyner-Boore Attenuation Data\n",
            "\n",
            "attitude                The Chatterjee-Price Attitude Data\n",
            "\n",
            "austres                 Quarterly Time Series of the Number of\n",
            "\n",
            "                        Australian Residents\n",
            "\n",
            "beaver1 (beavers)       Body Temperature Series of Two Beavers\n",
            "\n",
            "beaver2 (beavers)       Body Temperature Series of Two Beavers\n",
            "\n",
            "cars                    Speed and Stopping Distances of Cars\n",
            "\n",
            "chickwts                Chicken Weights by Feed Type\n",
            "\n",
            "co2                     Mauna Loa Atmospheric CO2 Concentration\n",
            "\n",
            "crimtab                 Student's 3000 Criminals Data\n",
            "\n",
            "discoveries             Yearly Numbers of Important Discoveries\n",
            "\n",
            "esoph                   Smoking, Alcohol and (O)esophageal Cancer\n",
            "\n",
            "euro                    Conversion Rates of Euro Currencies\n",
            "\n",
            "euro.cross (euro)       Conversion Rates of Euro Currencies\n",
            "\n",
            "eurodist                Distances Between European Cities and Between\n",
            "\n",
            "                        US Cities\n",
            "\n",
            "faithful                Old Faithful Geyser Data\n",
            "\n",
            "fdeaths (UKLungDeaths)\n",
            "\n",
            "                        Monthly Deaths from Lung Diseases in the UK\n",
            "\n",
            "freeny                  Freeny's Revenue Data\n",
            "\n",
            "freeny.x (freeny)       Freeny's Revenue Data\n",
            "\n",
            "freeny.y (freeny)       Freeny's Revenue Data\n",
            "\n",
            "infert                  Infertility after Spontaneous and Induced\n",
            "\n",
            "                        Abortion\n",
            "\n",
            "iris                    Edgar Anderson's Iris Data\n",
            "\n",
            "iris3                   Edgar Anderson's Iris Data\n",
            "\n",
            "islands                 Areas of the World's Major Landmasses\n",
            "\n",
            "ldeaths (UKLungDeaths)\n",
            "\n",
            "                        Monthly Deaths from Lung Diseases in the UK\n",
            "\n",
            "lh                      Luteinizing Hormone in Blood Samples\n",
            "\n",
            "longley                 Longley's Economic Regression Data\n",
            "\n",
            "lynx                    Annual Canadian Lynx trappings 1821-1934\n",
            "\n",
            "mdeaths (UKLungDeaths)\n",
            "\n",
            "                        Monthly Deaths from Lung Diseases in the UK\n",
            "\n",
            "morley                  Michelson Speed of Light Data\n",
            "\n",
            "mtcars                  Motor Trend Car Road Tests\n",
            "\n",
            "nhtemp                  Average Yearly Temperatures in New Haven\n",
            "\n",
            "nottem                  Average Monthly Temperatures at Nottingham,\n",
            "\n",
            "                        1920-1939\n",
            "\n",
            "npk                     Classical N, P, K Factorial Experiment\n",
            "\n",
            "occupationalStatus      Occupational Status of Fathers and their Sons\n",
            "\n",
            "precip                  Annual Precipitation in US Cities\n",
            "\n",
            "presidents              Quarterly Approval Ratings of US Presidents\n",
            "\n",
            "pressure                Vapor Pressure of Mercury as a Function of\n",
            "\n",
            "                        Temperature\n",
            "\n",
            "quakes                  Locations of Earthquakes off Fiji\n",
            "\n",
            "randu                   Random Numbers from Congruential Generator\n",
            "\n",
            "                        RANDU\n",
            "\n",
            "rivers                  Lengths of Major North American Rivers\n",
            "\n",
            "rock                    Measurements on Petroleum Rock Samples\n",
            "\n",
            "sleep                   Student's Sleep Data\n",
            "\n",
            "stack.loss (stackloss)\n",
            "\n",
            "                        Brownlee's Stack Loss Plant Data\n",
            "\n",
            "stack.x (stackloss)     Brownlee's Stack Loss Plant Data\n",
            "\n",
            "stackloss               Brownlee's Stack Loss Plant Data\n",
            "\n",
            "state.abb (state)       US State Facts and Figures\n",
            "\n",
            "state.area (state)      US State Facts and Figures\n",
            "\n",
            "state.center (state)    US State Facts and Figures\n",
            "\n",
            "state.division (state)\n",
            "\n",
            "                        US State Facts and Figures\n",
            "\n",
            "state.name (state)      US State Facts and Figures\n",
            "\n",
            "state.region (state)    US State Facts and Figures\n",
            "\n",
            "state.x77 (state)       US State Facts and Figures\n",
            "\n",
            "sunspot.month           Monthly Sunspot Data, from 1749 to \"Present\"\n",
            "\n",
            "sunspot.year            Yearly Sunspot Data, 1700-1988\n",
            "\n",
            "sunspots                Monthly Sunspot Numbers, 1749-1983\n",
            "\n",
            "swiss                   Swiss Fertility and Socioeconomic Indicators\n",
            "\n",
            "                        (1888) Data\n",
            "\n",
            "treering                Yearly Tree-Ring Data, -6000-1979\n",
            "\n",
            "trees                   Diameter, Height and Volume for Black Cherry\n",
            "\n",
            "                        Trees\n",
            "\n",
            "uspop                   Populations Recorded by the US Census\n",
            "\n",
            "volcano                 Topographic Information on Auckland's Maunga\n",
            "\n",
            "                        Whau Volcano\n",
            "\n",
            "warpbreaks              The Number of Breaks in Yarn during Weaving\n",
            "\n",
            "women                   Average Heights and Weights for American Women\n",
            "\n",
            "\n",
            "\n",
            "\n",
            "\n",
            "Use ‘data(package = .packages(all.available = TRUE))’\n",
            "\n",
            "to list the data sets in all *available* packages.\n",
            "\n",
            "---\n"
          ]
        }
      ]
    },
    {
      "cell_type": "code",
      "source": [
        "%%R\n",
        "library(tidyr)\n",
        "data(iris)\n",
        "df <- data.frame(iris)\n",
        "colnames(df)\n",
        "df$Species2 <- df$Species\n",
        "df$Species2<-gsub(\"color\", \"COLOR\", df$Species2)\n",
        "df$newcol <- 0\n",
        "df$newcol <- ifelse(df$Species == \"setosa\", 1, 0)\n",
        "df$ID <- seq.int(nrow(df))\n",
        "\n",
        "\n",
        "head(df)\n",
        "\n"
      ],
      "metadata": {
        "id": "BQAHDL71EVeK",
        "outputId": "33e4601c-3864-41ee-8f89-63d03435a130",
        "colab": {
          "base_uri": "https://localhost:8080/"
        }
      },
      "execution_count": 55,
      "outputs": [
        {
          "output_type": "stream",
          "name": "stdout",
          "text": [
            "  Sepal.Length Sepal.Width Petal.Length Petal.Width Species Species2 newcol ID\n",
            "1          5.1         3.5          1.4         0.2  setosa   setosa      1  1\n",
            "2          4.9         3.0          1.4         0.2  setosa   setosa      1  2\n",
            "3          4.7         3.2          1.3         0.2  setosa   setosa      1  3\n",
            "4          4.6         3.1          1.5         0.2  setosa   setosa      1  4\n",
            "5          5.0         3.6          1.4         0.2  setosa   setosa      1  5\n",
            "6          5.4         3.9          1.7         0.4  setosa   setosa      1  6\n"
          ]
        }
      ]
    },
    {
      "cell_type": "code",
      "source": [
        "%%R\n",
        "library(tidyverse)\n",
        "seps <- read_csv(\"http://www.mm-c.me/mdsi/hospitals93to98.csv\")\n",
        "\n"
      ],
      "metadata": {
        "id": "TuJTZwIvG29T",
        "outputId": "fcac1544-9423-421d-b4a4-681e68150895",
        "colab": {
          "base_uri": "https://localhost:8080/"
        }
      },
      "execution_count": 37,
      "outputs": [
        {
          "output_type": "stream",
          "name": "stdout",
          "text": [
            "Rows: 38 Columns: 8\n",
            "── Column specification ────────────────────────────────────────────────────────\n",
            "Delimiter: \",\"\n",
            "chr (2): IcdChapter, Field\n",
            "num (6): FY1993, FY1994, FY1995, FY1996, FY1997, FY1998\n",
            "\n",
            "ℹ Use `spec()` to retrieve the full column specification for this data.\n",
            "ℹ Specify the column types or set `show_col_types = FALSE` to quiet this message.\n"
          ]
        }
      ]
    },
    {
      "cell_type": "code",
      "source": [
        "%%R\n",
        "head(iris)"
      ],
      "metadata": {
        "id": "InmV9UOlHHLJ",
        "outputId": "8b6ad074-c286-4a11-e0bd-61b2912234be",
        "colab": {
          "base_uri": "https://localhost:8080/"
        }
      },
      "execution_count": 39,
      "outputs": [
        {
          "output_type": "stream",
          "name": "stdout",
          "text": [
            "  Sepal.Length Sepal.Width Petal.Length Petal.Width Species\n",
            "1          5.1         3.5          1.4         0.2  setosa\n",
            "2          4.9         3.0          1.4         0.2  setosa\n",
            "3          4.7         3.2          1.3         0.2  setosa\n",
            "4          4.6         3.1          1.5         0.2  setosa\n",
            "5          5.0         3.6          1.4         0.2  setosa\n",
            "6          5.4         3.9          1.7         0.4  setosa\n"
          ]
        }
      ]
    },
    {
      "cell_type": "code",
      "source": [
        "%%R\n",
        "head(df)\n",
        "wideToLong<-gather(df,property,value,Sepal.Length:Petal.Width)\n",
        "head(wideToLong)\n",
        "#nrow(wideToLong)\n"
      ],
      "metadata": {
        "id": "a0L7Nut9G_Pp",
        "outputId": "ab2d2d05-1c6a-431e-ed66-02769806c815",
        "colab": {
          "base_uri": "https://localhost:8080/"
        }
      },
      "execution_count": 56,
      "outputs": [
        {
          "output_type": "stream",
          "name": "stdout",
          "text": [
            "  Species Species2 newcol ID     property value\n",
            "1  setosa   setosa      1  1 Sepal.Length   5.1\n",
            "2  setosa   setosa      1  2 Sepal.Length   4.9\n",
            "3  setosa   setosa      1  3 Sepal.Length   4.7\n",
            "4  setosa   setosa      1  4 Sepal.Length   4.6\n",
            "5  setosa   setosa      1  5 Sepal.Length   5.0\n",
            "6  setosa   setosa      1  6 Sepal.Length   5.4\n"
          ]
        }
      ]
    },
    {
      "cell_type": "code",
      "source": [
        "%%R\n",
        " spreadOut <- spread(wideToLong, property, value)\n",
        " head(spreadOut)\n",
        " #nrow(spreadOut)\n"
      ],
      "metadata": {
        "id": "u7bAxycKHDtS",
        "outputId": "cf177e94-7758-4fac-8459-f491f08794cc",
        "colab": {
          "base_uri": "https://localhost:8080/"
        }
      },
      "execution_count": 58,
      "outputs": [
        {
          "output_type": "stream",
          "name": "stdout",
          "text": [
            "  Species Species2 newcol ID Petal.Length Petal.Width Sepal.Length Sepal.Width\n",
            "1  setosa   setosa      1  1          1.4         0.2          5.1         3.5\n",
            "2  setosa   setosa      1  2          1.4         0.2          4.9         3.0\n",
            "3  setosa   setosa      1  3          1.3         0.2          4.7         3.2\n",
            "4  setosa   setosa      1  4          1.5         0.2          4.6         3.1\n",
            "5  setosa   setosa      1  5          1.4         0.2          5.0         3.6\n",
            "6  setosa   setosa      1  6          1.7         0.4          5.4         3.9\n"
          ]
        }
      ]
    },
    {
      "cell_type": "code",
      "source": [],
      "metadata": {
        "id": "5F-MEP8BIYDl"
      },
      "execution_count": null,
      "outputs": []
    },
    {
      "cell_type": "code",
      "source": [
        "# prompt: use the iris data and display it graphically\n",
        "\n",
        "%%R\n",
        "data(iris)\n",
        "plot(iris$Sepal.Length, iris$Sepal.Width, col = iris$Species, pch = 19,\n",
        "     main = \"Iris Data Scatterplot\",\n",
        "     xlab = \"Sepal Length\", ylab = \"Sepal Width\")\n"
      ],
      "metadata": {
        "colab": {
          "base_uri": "https://localhost:8080/",
          "height": 497
        },
        "id": "PhsX_KD3VZpP",
        "outputId": "74d96781-0dcc-423c-b0da-9f348c1a3a5b"
      },
      "execution_count": 4,
      "outputs": [
        {
          "output_type": "display_data",
          "data": {
            "image/png": "[encoded data removed]"
          },
          "metadata": {}
        }
      ]
    },
    {
      "cell_type": "code",
      "source": [
        "# prompt: print the columns of the iris dataset\n",
        "\n",
        "%%R\n",
        "print(colnames(iris))\n"
      ],
      "metadata": {
        "colab": {
          "base_uri": "https://localhost:8080/"
        },
        "id": "ygqWqhr4Wxtc",
        "outputId": "d5f1e4f4-1261-47af-e369-e4fdffe2df67"
      },
      "execution_count": 5,
      "outputs": [
        {
          "output_type": "stream",
          "name": "stdout",
          "text": [
            "[1] \"Sepal.Length\" \"Sepal.Width\"  \"Petal.Length\" \"Petal.Width\"  \"Species\"     \n"
          ]
        }
      ]
    },
    {
      "cell_type": "code",
      "source": [
        "# prompt: perform k means clustering to separate the datapoints into classes\n",
        "\n",
        "%%R\n",
        "# Perform k-means clustering\n",
        "kmeans_result <- kmeans(iris[, 1:4], centers = 3)\n",
        "\n",
        "# Get cluster assignments\n",
        "cluster_assignments <- kmeans_result$cluster\n",
        "\n",
        "# Add cluster assignments to the iris data frame\n",
        "iris$cluster <- cluster_assignments\n",
        "\n",
        "# Plot the clustered data\n",
        "plot(iris$Sepal.Length, iris$Sepal.Width, col = iris$cluster, pch = 19,\n",
        "     main = \"Iris Data Scatterplot with K-Means Clusters\",\n",
        "     xlab = \"Sepal Length\", ylab = \"Sepal Width\")\n"
      ],
      "metadata": {
        "colab": {
          "base_uri": "https://localhost:8080/",
          "height": 497
        },
        "id": "_ZROzmUjV-T1",
        "outputId": "43687da2-2596-4e7a-9e16-2682deec8dd1"
      },
      "execution_count": 6,
      "outputs": [
        {
          "output_type": "display_data",
          "data": {
            "image/png": "[encoded data removed]"
          },
          "metadata": {}
        }
      ]
    },
    {
      "cell_type": "code",
      "source": [
        "# prompt: show the differences between k -means prediction and ground truth, including true positive and true negative\n",
        "\n",
        "%%R\n",
        "# Create a confusion matrix\n",
        "table(iris$Species, iris$cluster)\n",
        "\n",
        "# Calculate true positives, true negatives, etc.\n",
        "# Note: This requires some manual interpretation of the confusion matrix\n",
        "# as the cluster assignments might not perfectly align with the species.\n"
      ],
      "metadata": {
        "colab": {
          "base_uri": "https://localhost:8080/"
        },
        "id": "9gq5V-IIWM0x",
        "outputId": "2d9f3fde-6fde-42db-a304-b039f93974a4"
      },
      "execution_count": 7,
      "outputs": [
        {
          "output_type": "stream",
          "name": "stdout",
          "text": [
            "            \n",
            "              1  2  3\n",
            "  setosa     50  0  0\n",
            "  versicolor  0 48  2\n",
            "  virginica   0 14 36\n"
          ]
        }
      ]
    },
    {
      "cell_type": "code",
      "source": [
        "# prompt: install caTools\n",
        "\n",
        "%%R\n",
        "install.packages(\"caTools\")\n",
        "install.packages(\"pROC\")\n",
        "\n"
      ],
      "metadata": {
        "colab": {
          "base_uri": "https://localhost:8080/"
        },
        "id": "2wqJ-uPtXvce",
        "outputId": "5c3f735e-6052-4ab3-808e-3e96535e1254"
      },
      "execution_count": 8,
      "outputs": [
        {
          "output_type": "stream",
          "name": "stderr",
          "text": [
            "WARNING:rpy2.rinterface_lib.callbacks:R[write to console]: Installing package into ‘/usr/local/lib/R/site-library’\n",
            "(as ‘lib’ is unspecified)\n",
            "\n",
            "WARNING:rpy2.rinterface_lib.callbacks:R[write to console]: also installing the dependency ‘bitops’\n",
            "\n",
            "\n",
            "WARNING:rpy2.rinterface_lib.callbacks:R[write to console]: trying URL 'https://cran.rstudio.com/src/contrib/bitops_1.0-9.tar.gz'\n",
            "\n",
            "WARNING:rpy2.rinterface_lib.callbacks:R[write to console]: Content type 'application/x-gzip'\n",
            "WARNING:rpy2.rinterface_lib.callbacks:R[write to console]:  length 10941 bytes (10 KB)\n",
            "\n",
            "WARNING:rpy2.rinterface_lib.callbacks:R[write to console]: =\n",
            "WARNING:rpy2.rinterface_lib.callbacks:R[write to console]: =\n",
            "WARNING:rpy2.rinterface_lib.callbacks:R[write to console]: =\n",
            "WARNING:rpy2.rinterface_lib.callbacks:R[write to console]: =\n",
            "WARNING:rpy2.rinterface_lib.callbacks:R[write to console]: =\n",
            "WARNING:rpy2.rinterface_lib.callbacks:R[write to console]: =\n",
            "WARNING:rpy2.rinterface_lib.callbacks:R[write to console]: =\n",
            "WARNING:rpy2.rinterface_lib.callbacks:R[write to console]: =\n",
            "WARNING:rpy2.rinterface_lib.callbacks:R[write to console]: =\n",
            "WARNING:rpy2.rinterface_lib.callbacks:R[write to console]: =\n",
            "WARNING:rpy2.rinterface_lib.callbacks:R[write to console]: =\n",
            "WARNING:rpy2.rinterface_lib.callbacks:R[write to console]: =\n",
            "WARNING:rpy2.rinterface_lib.callbacks:R[write to console]: =\n",
            "WARNING:rpy2.rinterface_lib.callbacks:R[write to console]: =\n",
            "WARNING:rpy2.rinterface_lib.callbacks:R[write to console]: =\n",
            "WARNING:rpy2.rinterface_lib.callbacks:R[write to console]: =\n",
            "WARNING:rpy2.rinterface_lib.callbacks:R[write to console]: =\n",
            "WARNING:rpy2.rinterface_lib.callbacks:R[write to console]: =\n",
            "WARNING:rpy2.rinterface_lib.callbacks:R[write to console]: =\n",
            "WARNING:rpy2.rinterface_lib.callbacks:R[write to console]: =\n",
            "WARNING:rpy2.rinterface_lib.callbacks:R[write to console]: =\n",
            "WARNING:rpy2.rinterface_lib.callbacks:R[write to console]: =\n",
            "WARNING:rpy2.rinterface_lib.callbacks:R[write to console]: =\n",
            "WARNING:rpy2.rinterface_lib.callbacks:R[write to console]: =\n",
            "WARNING:rpy2.rinterface_lib.callbacks:R[write to console]: =\n",
            "WARNING:rpy2.rinterface_lib.callbacks:R[write to console]: =\n",
            "WARNING:rpy2.rinterface_lib.callbacks:R[write to console]: =\n",
            "WARNING:rpy2.rinterface_lib.callbacks:R[write to console]: =\n",
            "WARNING:rpy2.rinterface_lib.callbacks:R[write to console]: =\n",
            "WARNING:rpy2.rinterface_lib.callbacks:R[write to console]: =\n",
            "WARNING:rpy2.rinterface_lib.callbacks:R[write to console]: =\n",
            "WARNING:rpy2.rinterface_lib.callbacks:R[write to console]: =\n",
            "WARNING:rpy2.rinterface_lib.callbacks:R[write to console]: =\n",
            "WARNING:rpy2.rinterface_lib.callbacks:R[write to console]: =\n",
            "WARNING:rpy2.rinterface_lib.callbacks:R[write to console]: =\n",
            "WARNING:rpy2.rinterface_lib.callbacks:R[write to console]: =\n",
            "WARNING:rpy2.rinterface_lib.callbacks:R[write to console]: =\n",
            "WARNING:rpy2.rinterface_lib.callbacks:R[write to console]: =\n",
            "WARNING:rpy2.rinterface_lib.callbacks:R[write to console]: =\n",
            "WARNING:rpy2.rinterface_lib.callbacks:R[write to console]: =\n",
            "WARNING:rpy2.rinterface_lib.callbacks:R[write to console]: =\n",
            "WARNING:rpy2.rinterface_lib.callbacks:R[write to console]: =\n",
            "WARNING:rpy2.rinterface_lib.callbacks:R[write to console]: =\n",
            "WARNING:rpy2.rinterface_lib.callbacks:R[write to console]: =\n",
            "WARNING:rpy2.rinterface_lib.callbacks:R[write to console]: =\n",
            "WARNING:rpy2.rinterface_lib.callbacks:R[write to console]: =\n",
            "WARNING:rpy2.rinterface_lib.callbacks:R[write to console]: =\n",
            "WARNING:rpy2.rinterface_lib.callbacks:R[write to console]: =\n",
            "WARNING:rpy2.rinterface_lib.callbacks:R[write to console]: =\n",
            "WARNING:rpy2.rinterface_lib.callbacks:R[write to console]: =\n",
            "WARNING:rpy2.rinterface_lib.callbacks:R[write to console]: \n",
            "\n",
            "WARNING:rpy2.rinterface_lib.callbacks:R[write to console]: downloaded 10 KB\n",
            "\n",
            "\n",
            "WARNING:rpy2.rinterface_lib.callbacks:R[write to console]: trying URL 'https://cran.rstudio.com/src/contrib/caTools_1.18.3.tar.gz'\n",
            "\n",
            "WARNING:rpy2.rinterface_lib.callbacks:R[write to console]: Content type 'application/x-gzip'\n",
            "WARNING:rpy2.rinterface_lib.callbacks:R[write to console]:  length 65825 bytes (64 KB)\n",
            "\n",
            "WARNING:rpy2.rinterface_lib.callbacks:R[write to console]: =\n",
            "WARNING:rpy2.rinterface_lib.callbacks:R[write to console]: =\n",
            "WARNING:rpy2.rinterface_lib.callbacks:R[write to console]: =\n",
            "WARNING:rpy2.rinterface_lib.callbacks:R[write to console]: =\n",
            "WARNING:rpy2.rinterface_lib.callbacks:R[write to console]: =\n",
            "WARNING:rpy2.rinterface_lib.callbacks:R[write to console]: =\n",
            "WARNING:rpy2.rinterface_lib.callbacks:R[write to console]: =\n",
            "WARNING:rpy2.rinterface_lib.callbacks:R[write to console]: =\n",
            "WARNING:rpy2.rinterface_lib.callbacks:R[write to console]: =\n",
            "WARNING:rpy2.rinterface_lib.callbacks:R[write to console]: =\n",
            "WARNING:rpy2.rinterface_lib.callbacks:R[write to console]: =\n",
            "WARNING:rpy2.rinterface_lib.callbacks:R[write to console]: =\n",
            "WARNING:rpy2.rinterface_lib.callbacks:R[write to console]: =\n",
            "WARNING:rpy2.rinterface_lib.callbacks:R[write to console]: =\n",
            "WARNING:rpy2.rinterface_lib.callbacks:R[write to console]: =\n",
            "WARNING:rpy2.rinterface_lib.callbacks:R[write to console]: =\n",
            "WARNING:rpy2.rinterface_lib.callbacks:R[write to console]: =\n",
            "WARNING:rpy2.rinterface_lib.callbacks:R[write to console]: =\n",
            "WARNING:rpy2.rinterface_lib.callbacks:R[write to console]: =\n",
            "WARNING:rpy2.rinterface_lib.callbacks:R[write to console]: =\n",
            "WARNING:rpy2.rinterface_lib.callbacks:R[write to console]: =\n",
            "WARNING:rpy2.rinterface_lib.callbacks:R[write to console]: =\n",
            "WARNING:rpy2.rinterface_lib.callbacks:R[write to console]: =\n",
            "WARNING:rpy2.rinterface_lib.callbacks:R[write to console]: =\n",
            "WARNING:rpy2.rinterface_lib.callbacks:R[write to console]: =\n",
            "WARNING:rpy2.rinterface_lib.callbacks:R[write to console]: =\n",
            "WARNING:rpy2.rinterface_lib.callbacks:R[write to console]: =\n",
            "WARNING:rpy2.rinterface_lib.callbacks:R[write to console]: =\n",
            "WARNING:rpy2.rinterface_lib.callbacks:R[write to console]: =\n",
            "WARNING:rpy2.rinterface_lib.callbacks:R[write to console]: =\n",
            "WARNING:rpy2.rinterface_lib.callbacks:R[write to console]: =\n",
            "WARNING:rpy2.rinterface_lib.callbacks:R[write to console]: =\n",
            "WARNING:rpy2.rinterface_lib.callbacks:R[write to console]: =\n",
            "WARNING:rpy2.rinterface_lib.callbacks:R[write to console]: =\n",
            "WARNING:rpy2.rinterface_lib.callbacks:R[write to console]: =\n",
            "WARNING:rpy2.rinterface_lib.callbacks:R[write to console]: =\n",
            "WARNING:rpy2.rinterface_lib.callbacks:R[write to console]: =\n",
            "WARNING:rpy2.rinterface_lib.callbacks:R[write to console]: =\n",
            "WARNING:rpy2.rinterface_lib.callbacks:R[write to console]: =\n",
            "WARNING:rpy2.rinterface_lib.callbacks:R[write to console]: =\n",
            "WARNING:rpy2.rinterface_lib.callbacks:R[write to console]: =\n",
            "WARNING:rpy2.rinterface_lib.callbacks:R[write to console]: =\n",
            "WARNING:rpy2.rinterface_lib.callbacks:R[write to console]: =\n",
            "WARNING:rpy2.rinterface_lib.callbacks:R[write to console]: =\n",
            "WARNING:rpy2.rinterface_lib.callbacks:R[write to console]: =\n",
            "WARNING:rpy2.rinterface_lib.callbacks:R[write to console]: =\n",
            "WARNING:rpy2.rinterface_lib.callbacks:R[write to console]: =\n",
            "WARNING:rpy2.rinterface_lib.callbacks:R[write to console]: =\n",
            "WARNING:rpy2.rinterface_lib.callbacks:R[write to console]: =\n",
            "WARNING:rpy2.rinterface_lib.callbacks:R[write to console]: =\n",
            "WARNING:rpy2.rinterface_lib.callbacks:R[write to console]: \n",
            "\n",
            "WARNING:rpy2.rinterface_lib.callbacks:R[write to console]: downloaded 64 KB\n",
            "\n",
            "\n",
            "WARNING:rpy2.rinterface_lib.callbacks:R[write to console]: \n",
            "\n",
            "WARNING:rpy2.rinterface_lib.callbacks:R[write to console]: \n",
            "WARNING:rpy2.rinterface_lib.callbacks:R[write to console]: The downloaded source packages are in\n",
            "\t‘/tmp/Rtmpixgwzq/downloaded_packages’\n",
            "WARNING:rpy2.rinterface_lib.callbacks:R[write to console]: \n",
            "WARNING:rpy2.rinterface_lib.callbacks:R[write to console]: \n",
            "\n",
            "WARNING:rpy2.rinterface_lib.callbacks:R[write to console]: Installing package into ‘/usr/local/lib/R/site-library’\n",
            "(as ‘lib’ is unspecified)\n",
            "\n",
            "WARNING:rpy2.rinterface_lib.callbacks:R[write to console]: also installing the dependency ‘plyr’\n",
            "\n",
            "\n",
            "WARNING:rpy2.rinterface_lib.callbacks:R[write to console]: trying URL 'https://cran.rstudio.com/src/contrib/plyr_1.8.9.tar.gz'\n",
            "\n",
            "WARNING:rpy2.rinterface_lib.callbacks:R[write to console]: Content type 'application/x-gzip'\n",
            "WARNING:rpy2.rinterface_lib.callbacks:R[write to console]:  length 401488 bytes (392 KB)\n",
            "\n",
            "WARNING:rpy2.rinterface_lib.callbacks:R[write to console]: =\n",
            "WARNING:rpy2.rinterface_lib.callbacks:R[write to console]: =\n",
            "WARNING:rpy2.rinterface_lib.callbacks:R[write to console]: =\n",
            "WARNING:rpy2.rinterface_lib.callbacks:R[write to console]: =\n",
            "WARNING:rpy2.rinterface_lib.callbacks:R[write to console]: =\n",
            "WARNING:rpy2.rinterface_lib.callbacks:R[write to console]: =\n",
            "WARNING:rpy2.rinterface_lib.callbacks:R[write to console]: =\n",
            "WARNING:rpy2.rinterface_lib.callbacks:R[write to console]: =\n",
            "WARNING:rpy2.rinterface_lib.callbacks:R[write to console]: =\n",
            "WARNING:rpy2.rinterface_lib.callbacks:R[write to console]: =\n",
            "WARNING:rpy2.rinterface_lib.callbacks:R[write to console]: =\n",
            "WARNING:rpy2.rinterface_lib.callbacks:R[write to console]: =\n",
            "WARNING:rpy2.rinterface_lib.callbacks:R[write to console]: =\n",
            "WARNING:rpy2.rinterface_lib.callbacks:R[write to console]: =\n",
            "WARNING:rpy2.rinterface_lib.callbacks:R[write to console]: =\n",
            "WARNING:rpy2.rinterface_lib.callbacks:R[write to console]: =\n",
            "WARNING:rpy2.rinterface_lib.callbacks:R[write to console]: =\n",
            "WARNING:rpy2.rinterface_lib.callbacks:R[write to console]: =\n",
            "WARNING:rpy2.rinterface_lib.callbacks:R[write to console]: =\n",
            "WARNING:rpy2.rinterface_lib.callbacks:R[write to console]: =\n",
            "WARNING:rpy2.rinterface_lib.callbacks:R[write to console]: =\n",
            "WARNING:rpy2.rinterface_lib.callbacks:R[write to console]: =\n",
            "WARNING:rpy2.rinterface_lib.callbacks:R[write to console]: =\n",
            "WARNING:rpy2.rinterface_lib.callbacks:R[write to console]: =\n",
            "WARNING:rpy2.rinterface_lib.callbacks:R[write to console]: =\n",
            "WARNING:rpy2.rinterface_lib.callbacks:R[write to console]: =\n",
            "WARNING:rpy2.rinterface_lib.callbacks:R[write to console]: =\n",
            "WARNING:rpy2.rinterface_lib.callbacks:R[write to console]: =\n",
            "WARNING:rpy2.rinterface_lib.callbacks:R[write to console]: =\n",
            "WARNING:rpy2.rinterface_lib.callbacks:R[write to console]: =\n",
            "WARNING:rpy2.rinterface_lib.callbacks:R[write to console]: =\n",
            "WARNING:rpy2.rinterface_lib.callbacks:R[write to console]: =\n",
            "WARNING:rpy2.rinterface_lib.callbacks:R[write to console]: =\n",
            "WARNING:rpy2.rinterface_lib.callbacks:R[write to console]: =\n",
            "WARNING:rpy2.rinterface_lib.callbacks:R[write to console]: =\n",
            "WARNING:rpy2.rinterface_lib.callbacks:R[write to console]: =\n",
            "WARNING:rpy2.rinterface_lib.callbacks:R[write to console]: =\n",
            "WARNING:rpy2.rinterface_lib.callbacks:R[write to console]: =\n",
            "WARNING:rpy2.rinterface_lib.callbacks:R[write to console]: =\n",
            "WARNING:rpy2.rinterface_lib.callbacks:R[write to console]: =\n",
            "WARNING:rpy2.rinterface_lib.callbacks:R[write to console]: =\n",
            "WARNING:rpy2.rinterface_lib.callbacks:R[write to console]: =\n",
            "WARNING:rpy2.rinterface_lib.callbacks:R[write to console]: =\n",
            "WARNING:rpy2.rinterface_lib.callbacks:R[write to console]: =\n",
            "WARNING:rpy2.rinterface_lib.callbacks:R[write to console]: =\n",
            "WARNING:rpy2.rinterface_lib.callbacks:R[write to console]: =\n",
            "WARNING:rpy2.rinterface_lib.callbacks:R[write to console]: =\n",
            "WARNING:rpy2.rinterface_lib.callbacks:R[write to console]: =\n",
            "WARNING:rpy2.rinterface_lib.callbacks:R[write to console]: =\n",
            "WARNING:rpy2.rinterface_lib.callbacks:R[write to console]: =\n",
            "WARNING:rpy2.rinterface_lib.callbacks:R[write to console]: \n",
            "\n",
            "WARNING:rpy2.rinterface_lib.callbacks:R[write to console]: downloaded 392 KB\n",
            "\n",
            "\n",
            "WARNING:rpy2.rinterface_lib.callbacks:R[write to console]: trying URL 'https://cran.rstudio.com/src/contrib/pROC_1.18.5.tar.gz'\n",
            "\n",
            "WARNING:rpy2.rinterface_lib.callbacks:R[write to console]: Content type 'application/x-gzip'\n",
            "WARNING:rpy2.rinterface_lib.callbacks:R[write to console]:  length 696162 bytes (679 KB)\n",
            "\n",
            "WARNING:rpy2.rinterface_lib.callbacks:R[write to console]: =\n",
            "WARNING:rpy2.rinterface_lib.callbacks:R[write to console]: =\n",
            "WARNING:rpy2.rinterface_lib.callbacks:R[write to console]: =\n",
            "WARNING:rpy2.rinterface_lib.callbacks:R[write to console]: =\n",
            "WARNING:rpy2.rinterface_lib.callbacks:R[write to console]: =\n",
            "WARNING:rpy2.rinterface_lib.callbacks:R[write to console]: =\n",
            "WARNING:rpy2.rinterface_lib.callbacks:R[write to console]: =\n",
            "WARNING:rpy2.rinterface_lib.callbacks:R[write to console]: =\n",
            "WARNING:rpy2.rinterface_lib.callbacks:R[write to console]: =\n",
            "WARNING:rpy2.rinterface_lib.callbacks:R[write to console]: =\n",
            "WARNING:rpy2.rinterface_lib.callbacks:R[write to console]: =\n",
            "WARNING:rpy2.rinterface_lib.callbacks:R[write to console]: =\n",
            "WARNING:rpy2.rinterface_lib.callbacks:R[write to console]: =\n",
            "WARNING:rpy2.rinterface_lib.callbacks:R[write to console]: =\n",
            "WARNING:rpy2.rinterface_lib.callbacks:R[write to console]: =\n",
            "WARNING:rpy2.rinterface_lib.callbacks:R[write to console]: =\n",
            "WARNING:rpy2.rinterface_lib.callbacks:R[write to console]: =\n",
            "WARNING:rpy2.rinterface_lib.callbacks:R[write to console]: =\n",
            "WARNING:rpy2.rinterface_lib.callbacks:R[write to console]: =\n",
            "WARNING:rpy2.rinterface_lib.callbacks:R[write to console]: =\n",
            "WARNING:rpy2.rinterface_lib.callbacks:R[write to console]: =\n",
            "WARNING:rpy2.rinterface_lib.callbacks:R[write to console]: =\n",
            "WARNING:rpy2.rinterface_lib.callbacks:R[write to console]: =\n",
            "WARNING:rpy2.rinterface_lib.callbacks:R[write to console]: =\n",
            "WARNING:rpy2.rinterface_lib.callbacks:R[write to console]: =\n",
            "WARNING:rpy2.rinterface_lib.callbacks:R[write to console]: =\n",
            "WARNING:rpy2.rinterface_lib.callbacks:R[write to console]: =\n",
            "WARNING:rpy2.rinterface_lib.callbacks:R[write to console]: =\n",
            "WARNING:rpy2.rinterface_lib.callbacks:R[write to console]: =\n",
            "WARNING:rpy2.rinterface_lib.callbacks:R[write to console]: =\n",
            "WARNING:rpy2.rinterface_lib.callbacks:R[write to console]: =\n",
            "WARNING:rpy2.rinterface_lib.callbacks:R[write to console]: =\n",
            "WARNING:rpy2.rinterface_lib.callbacks:R[write to console]: =\n",
            "WARNING:rpy2.rinterface_lib.callbacks:R[write to console]: =\n",
            "WARNING:rpy2.rinterface_lib.callbacks:R[write to console]: =\n",
            "WARNING:rpy2.rinterface_lib.callbacks:R[write to console]: =\n",
            "WARNING:rpy2.rinterface_lib.callbacks:R[write to console]: =\n",
            "WARNING:rpy2.rinterface_lib.callbacks:R[write to console]: =\n",
            "WARNING:rpy2.rinterface_lib.callbacks:R[write to console]: =\n",
            "WARNING:rpy2.rinterface_lib.callbacks:R[write to console]: =\n",
            "WARNING:rpy2.rinterface_lib.callbacks:R[write to console]: =\n",
            "WARNING:rpy2.rinterface_lib.callbacks:R[write to console]: =\n",
            "WARNING:rpy2.rinterface_lib.callbacks:R[write to console]: =\n",
            "WARNING:rpy2.rinterface_lib.callbacks:R[write to console]: =\n",
            "WARNING:rpy2.rinterface_lib.callbacks:R[write to console]: =\n",
            "WARNING:rpy2.rinterface_lib.callbacks:R[write to console]: =\n",
            "WARNING:rpy2.rinterface_lib.callbacks:R[write to console]: =\n",
            "WARNING:rpy2.rinterface_lib.callbacks:R[write to console]: =\n",
            "WARNING:rpy2.rinterface_lib.callbacks:R[write to console]: =\n",
            "WARNING:rpy2.rinterface_lib.callbacks:R[write to console]: =\n",
            "WARNING:rpy2.rinterface_lib.callbacks:R[write to console]: \n",
            "\n",
            "WARNING:rpy2.rinterface_lib.callbacks:R[write to console]: downloaded 679 KB\n",
            "\n",
            "\n",
            "WARNING:rpy2.rinterface_lib.callbacks:R[write to console]: \n",
            "\n",
            "WARNING:rpy2.rinterface_lib.callbacks:R[write to console]: \n",
            "WARNING:rpy2.rinterface_lib.callbacks:R[write to console]: The downloaded source packages are in\n",
            "\t‘/tmp/Rtmpixgwzq/downloaded_packages’\n",
            "WARNING:rpy2.rinterface_lib.callbacks:R[write to console]: \n",
            "WARNING:rpy2.rinterface_lib.callbacks:R[write to console]: \n",
            "\n"
          ]
        }
      ]
    },
    {
      "cell_type": "code",
      "source": [
        "# prompt: Use sepal length to predict if it is setosa and perform roc analysis with ROC curve\n",
        "\n",
        "%%R\n",
        "# Create a binary variable for setosa\n",
        "iris$setosa <- ifelse(iris$Species == \"setosa\", 1, 0)\n",
        "\n",
        "# Split the data into training and testing sets\n",
        "library(caTools)\n",
        "split <- sample.split(iris$setosa, SplitRatio = 0.7)\n",
        "train_data <- subset(iris, split == TRUE)\n",
        "test_data <- subset(iris, split == FALSE)\n",
        "\n",
        "# Fit a logistic regression model\n",
        "model <- glm(setosa ~ Sepal.Length, data = train_data, family = binomial)\n",
        "\n",
        "# Predict probabilities on the test data\n",
        "predictions <- predict(model, newdata = test_data, type = \"response\")\n",
        "\n",
        "# Create a ROC curve\n",
        "library(pROC)\n",
        "roc_obj <- roc(test_data$setosa, predictions)\n",
        "plot(roc_obj)\n",
        "\n",
        "# Calculate AUC\n",
        "auc(roc_obj)\n"
      ],
      "metadata": {
        "colab": {
          "base_uri": "https://localhost:8080/",
          "height": 780
        },
        "id": "R9SJXtFUXfUl",
        "outputId": "e95e815f-6b41-4aad-8c55-ed7b9fe73706"
      },
      "execution_count": 9,
      "outputs": [
        {
          "output_type": "stream",
          "name": "stderr",
          "text": [
            "WARNING:rpy2.rinterface_lib.callbacks:R[write to console]: Type 'citation(\"pROC\")' for a citation.\n",
            "\n",
            "WARNING:rpy2.rinterface_lib.callbacks:R[write to console]: \n",
            "Attaching package: ‘pROC’\n",
            "\n",
            "\n",
            "WARNING:rpy2.rinterface_lib.callbacks:R[write to console]: The following objects are masked from ‘package:stats’:\n",
            "\n",
            "    cov, smooth, var\n",
            "\n",
            "\n",
            "WARNING:rpy2.rinterface_lib.callbacks:R[write to console]: Setting levels: control = 0, case = 1\n",
            "\n",
            "WARNING:rpy2.rinterface_lib.callbacks:R[write to console]: Setting direction: controls < cases\n",
            "\n"
          ]
        },
        {
          "output_type": "stream",
          "name": "stdout",
          "text": [
            "Area under the curve: 0.9722\n"
          ]
        },
        {
          "output_type": "display_data",
          "data": {
            "image/png": "[encoded data removed]"
          },
          "metadata": {}
        }
      ]
    },
    {
      "cell_type": "code",
      "source": [
        "# prompt: perform k-means clustering of iris data on a training set and use the resulting clusters to predict a test set, use cl_predict\n",
        "\n",
        "%%R\n",
        "# Install necessary packages\n",
        "if (!require(\"cluster\")) install.packages(\"cluster\")\n",
        "if (!require(\"clue\")) install.packages(\"clue\")\n",
        "\n",
        "# Load the iris dataset\n",
        "data(iris)\n",
        "\n",
        "# Split the data into training and testing sets\n",
        "library(caTools)\n",
        "split <- sample.split(iris$Species, SplitRatio = 0.2)\n",
        "train_data <- subset(iris, split == TRUE)\n",
        "test_data <- subset(iris, split == FALSE)\n",
        "\n",
        "# Perform k-means clustering on the training data\n",
        "kmeans_result <- kmeans(train_data[, 1:4], centers = 3)\n",
        "\n",
        "# Get cluster assignments for the training data\n",
        "train_data$cluster <- kmeans_result$cluster\n",
        "\n",
        "# Predict clusters for the test data using cl_predict\n",
        "library(cluster)\n",
        "predicted_clusters <- cl_predict(kmeans_result, newdata = test_data[, 1:4])\n",
        "\n",
        "# Add predicted clusters to the test data\n",
        "test_data$predicted_cluster <- predicted_clusters\n",
        "\n",
        "# Create a confusion matrix\n",
        "table(test_data$Species, test_data$predicted_cluster)\n"
      ],
      "metadata": {
        "colab": {
          "base_uri": "https://localhost:8080/"
        },
        "id": "wgWDE9STYnR0",
        "outputId": "f26dd0e2-d590-4234-e22f-cad8edd4fe81"
      },
      "execution_count": 11,
      "outputs": [
        {
          "output_type": "stream",
          "name": "stderr",
          "text": [
            "WARNING:rpy2.rinterface_lib.callbacks:R[write to console]: Loading required package: clue\n",
            "\n"
          ]
        },
        {
          "output_type": "stream",
          "name": "stdout",
          "text": [
            "            \n",
            "              1  2  3\n",
            "  setosa      0 18 22\n",
            "  versicolor 37  3  0\n",
            "  virginica  40  0  0\n"
          ]
        }
      ]
    },
    {
      "cell_type": "code",
      "source": [
        "# prompt: calculate prediction accuracy for each cluster\n",
        "\n",
        "%%R\n",
        "# Create a confusion matrix\n",
        "confusion_matrix <- table(test_data$Species, test_data$predicted_cluster)\n",
        "\n",
        "# Calculate accuracy for each cluster\n",
        "for (i in 1:nrow(confusion_matrix)) {\n",
        "  cluster_total <- sum(confusion_matrix[i,])\n",
        "  cluster_correct <- max(confusion_matrix[i,])\n",
        "  cluster_accuracy <- cluster_correct / cluster_total\n",
        "  print(paste(\"Accuracy for cluster\", i, \":\", cluster_accuracy))\n",
        "}\n"
      ],
      "metadata": {
        "colab": {
          "base_uri": "https://localhost:8080/"
        },
        "id": "2oL4YLTTY9Ex",
        "outputId": "72a6f566-4880-491b-cff3-e51607928189"
      },
      "execution_count": 1,
      "outputs": [
        {
          "output_type": "stream",
          "name": "stderr",
          "text": [
            "UsageError: Cell magic `%%R` not found.\n"
          ]
        }
      ]
    }
  ]
}